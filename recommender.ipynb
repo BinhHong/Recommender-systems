{
 "cells": [
  {
   "cell_type": "code",
   "execution_count": 17,
   "id": "68b18809",
   "metadata": {},
   "outputs": [],
   "source": [
    "import numpy as np\n",
    "import tensorflow as tf\n",
    "from tensorflow import keras\n",
    "import matplotlib.pyplot as plt\n",
    "%matplotlib inline"
   ]
  },
  {
   "cell_type": "markdown",
   "id": "f9f72361",
   "metadata": {},
   "source": [
    "# 1. Using tf for auto diff"
   ]
  },
  {
   "cell_type": "code",
   "execution_count": 8,
   "id": "7d7b497f",
   "metadata": {},
   "outputs": [],
   "source": [
    "# define variable\n",
    "w = tf.Variable(3.0)\n",
    "x = 1\n",
    "y = 1\n",
    "alpha = 0.01"
   ]
  },
  {
   "cell_type": "markdown",
   "id": "edf2a727",
   "metadata": {},
   "source": [
    "Suppose that $J=(wx-y)^2$"
   ]
  },
  {
   "cell_type": "code",
   "execution_count": 24,
   "id": "8bbd5122",
   "metadata": {},
   "outputs": [],
   "source": [
    "a = np.linspace(0,5,30)\n",
    "b = (a-1)**2"
   ]
  },
  {
   "cell_type": "code",
   "execution_count": 31,
   "id": "fcfeba31",
   "metadata": {},
   "outputs": [
    {
     "data": {
      "text/plain": [
       "(0.0, 2.0, 0.0, 2.0)"
      ]
     },
     "execution_count": 31,
     "metadata": {},
     "output_type": "execute_result"
    },
    {
     "data": {
      "image/png": "[encoded data removed]",
      "text/plain": [
       "<Figure size 432x288 with 1 Axes>"
      ]
     },
     "metadata": {
      "needs_background": "light"
     },
     "output_type": "display_data"
    }
   ],
   "source": [
    "plt.plot(a,b)\n",
    "plt.axis([0,2,0,2])"
   ]
  },
  {
   "cell_type": "code",
   "execution_count": 16,
   "id": "cd246fe1",
   "metadata": {},
   "outputs": [
    {
     "name": "stdout",
     "output_type": "stream",
     "text": [
      "tf.Tensor(2.1819367, shape=(), dtype=float32)\n",
      "tf.Tensor(2.138298, shape=(), dtype=float32)\n",
      "tf.Tensor(2.095532, shape=(), dtype=float32)\n",
      "tf.Tensor(2.0536213, shape=(), dtype=float32)\n",
      "tf.Tensor(2.012549, shape=(), dtype=float32)\n",
      "tf.Tensor(1.9722979, shape=(), dtype=float32)\n",
      "tf.Tensor(1.932852, shape=(), dtype=float32)\n",
      "tf.Tensor(1.8941951, shape=(), dtype=float32)\n",
      "tf.Tensor(1.8563111, shape=(), dtype=float32)\n",
      "tf.Tensor(1.8191848, shape=(), dtype=float32)\n"
     ]
    }
   ],
   "source": [
    "iterations = 10\n",
    "for itera in range(iterations):\n",
    "    # record the cost J\n",
    "    with tf.GradientTape() as tape:\n",
    "        costJ = (w*x - y)**2\n",
    "    # calculate gradient descent by gradient tape\n",
    "    [dJdw] = tape.gradient(costJ, [w])\n",
    "    # run 1 step in GD by updating value of w\n",
    "    w.assign_add(-alpha * dJdw)\n",
    "    print(dJdw)"
   ]
  },
  {
   "cell_type": "markdown",
   "id": "95780627",
   "metadata": {},
   "source": [
    "## other way \n",
    "\n",
    "is to instantiate an optimizer instead of using a variable.\n",
    "\n",
    "```optimizer = keras.optimizers.Adam(learning_rate=1e-1)\n",
    "\n",
    "iterations = 200\n",
    "for iter in range(interations):\n",
    "    with tf.GradientTape() as tape:\n",
    "    # cost formula\n",
    "    cost = ....(x,y,z)\n",
    "    \n",
    "    # grads is a list\n",
    "    grads = tape.gradient(cost, [x,y,z])\n",
    "    \n",
    "    \n",
    "    # apply gradient descent to the object, here is Adam optimizer\n",
    "    optimizer.apply_gradients(zip(grads,[x,y,z]))\n",
    "    \n",
    "```"
   ]
  },
  {
   "cell_type": "code",
   "execution_count": null,
   "id": "2a64b7f7",
   "metadata": {},
   "outputs": [],
   "source": []
  }
 ],
 "metadata": {
  "kernelspec": {
   "display_name": "Python 3 (ipykernel)",
   "language": "python",
   "name": "python3"
  },
  "language_info": {
   "codemirror_mode": {
    "name": "ipython",
    "version": 3
   },
   "file_extension": ".py",
   "mimetype": "text/x-python",
   "name": "python",
   "nbconvert_exporter": "python",
   "pygments_lexer": "ipython3",
   "version": "3.9.7"
  }
 },
 "nbformat": 4,
 "nbformat_minor": 5
}
